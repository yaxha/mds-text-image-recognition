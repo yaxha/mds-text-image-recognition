{
 "cells": [
  {
   "cell_type": "markdown",
   "metadata": {},
   "source": [
    "# **Hoja de trabajo 3**\n",
    "**José Barrios - 20007192**\n",
    "\n",
    "## Problema 1\n",
    "Para validar las expresiones regulares se usa el siguiente sitio: http://regexstorm.net/tester \n",
    "\n",
    "**Inciso a**: Implemente una regex para validar un correo electrónico en general."
   ]
  },
  {
   "cell_type": "code",
   "execution_count": null,
   "metadata": {},
   "outputs": [],
   "source": [
    "# ^[\\w-\\.]+@([\\w-]+\\.)+[\\w-]{2,4}$ "
   ]
  },
  {
   "cell_type": "markdown",
   "metadata": {},
   "source": [
    "**Inciso b**: Implemente una regex para validar la dirección url de una página web con los tipos de domino (.com, .org, .edu). Note que la url incluye el protocolo (http o https) y los símbolos (//www.)"
   ]
  },
  {
   "cell_type": "code",
   "execution_count": null,
   "metadata": {},
   "outputs": [],
   "source": [
    "# ^(http(s)?):\\/\\/www\\.[\\w-\\.@:%\\+~#=]{2,}\\.[\\w-]{2,4}$"
   ]
  },
  {
   "cell_type": "markdown",
   "metadata": {},
   "source": [
    "**Inciso c**: Implemente una regex para validar una MAC Address, notar que las mac addres están divididas en 6 bloques de caracteres hexadecimales, es decir que los símbolos solo pueden variar del 0 al 9 y las letras de la A a la F."
   ]
  },
  {
   "cell_type": "code",
   "execution_count": null,
   "metadata": {},
   "outputs": [],
   "source": [
    "# ^([\\dA-Fa-f]{2}[:-]){5}([\\dA-Fa-f]{2})$"
   ]
  },
  {
   "cell_type": "markdown",
   "metadata": {},
   "source": [
    "**Inciso d**: Implemente una regex para validar una dirección IPv4, notar que las direcciones IPv4 están divididas en 4 bloques de valores los cuales solo pueden ir desde 0 hasta 255, una ip donde algunos de sus bloques sea mayor a 255 no es valida, además tome en cuenta que cada bloque está separada por un punto."
   ]
  },
  {
   "cell_type": "code",
   "execution_count": null,
   "metadata": {},
   "outputs": [],
   "source": [
    "# ^((25[0-5]|2[0-4][0-9]|1[0-9][0-9]|[1-9]?[0-9])\\.){3}(25[0-5]|2[0-4][0-9]|1[0-9][0-9]|[1-9]?[0-9])$"
   ]
  },
  {
   "cell_type": "markdown",
   "metadata": {},
   "source": [
    "**Inciso e**: Implemente una regex para validar una fecha con la secuencia día-mes-año donde el día, mes y año puedan estar separados ya sea por el caracter \"/\" o el caracter \"-\" o el caracter \".\", notarque las fechas son válidas si los si los días están definidos desde el 1 al 31, el mes del 1 al 12 y el año de 2000 al 2019. También debe tomar en cuenta que los días y meses pueden estar escritos ya sea con uno o dos caracteres por ejemplo: Enero puede escribirse como 1 o como 01. Los aóos también pueden expresarse ya sea con dos o con cuatro caracteres por ejemplo: 19 o 2019 son válidos."
   ]
  },
  {
   "cell_type": "code",
   "execution_count": null,
   "metadata": {},
   "outputs": [],
   "source": [
    "# ^(3[0-1]|[1-2][0-9]|0?[1-9])[-\\.\\/](1[0-2]|0?[1-9])[-\\.\\/](20)?[0-1][0-9]$"
   ]
  },
  {
   "cell_type": "markdown",
   "metadata": {},
   "source": [
    "## Problema 2\n",
    "En la carpeta encontrará adjuntos 21 documentos que tiene 100 fechas en la secuencia días-mes-año, pero con distinto separador y distinto formato de mes, en algunos casos aparece un número y en otros el nombre del mes en inglés, por ejemplo: Enero pueder aparecer como 1 o como Jan. Utilice Python y expresiones regulares para encontrar el día, mes y año promedio total del los 21 archivos, los resultados deben ser un double."
   ]
  },
  {
   "cell_type": "code",
   "execution_count": 11,
   "metadata": {},
   "outputs": [],
   "source": [
    "import re\n",
    "import pandas as pd"
   ]
  },
  {
   "cell_type": "code",
   "execution_count": 23,
   "metadata": {},
   "outputs": [],
   "source": [
    "#Definir función que lee los 21 documentos, que devuelva los datos en una tupla\n",
    "def fecha_promedio(nombre_principal_archivos='Datos/D', cant_archivos=21):\n",
    "    tabla_fechas = pd.DataFrame(columns=['Dia', 'Mes', 'Anio'])\n",
    "    tabla_fechas = tabla_fechas.fillna(0)\n",
    "    \n",
    "    #Ciclo de lectura de los n archivos\n",
    "    #Se asume que se empieza en 1 hasta cant_archivos\n",
    "    for i in range(1, cant_archivos+1):\n",
    "        # Apertura de archivo\n",
    "        nombre_archivo = nombre_principal_archivos + str(i) + '.txt'\n",
    "        archivo = open(nombre_archivo, 'r', encoding='utf-8-sig')\n",
    "        \n",
    "        # Lectura de todo el archivo, línea por línea\n",
    "        for linea in archivo:\n",
    "            datos_fecha = re.split('[-\\/\\.]', linea) #Separar datos por \"/\", \".\", o \"-\"\n",
    "            \n",
    "            # Determinar día y año\n",
    "            dia = int(datos_fecha[0])\n",
    "            anio = int(datos_fecha[2])\n",
    "            \n",
    "            # Determinar mes\n",
    "            # Los meses pueden venir con formato de número o nombre en inglés\n",
    "            mes = 0\n",
    "            if(re.match(\"[a-zA-Z]+\", datos_fecha[1])): #Si es el nombre\n",
    "                nombre_mes = datos_fecha[1].lower()\n",
    "                if nombre_mes == 'jan': mes = 1\n",
    "                elif nombre_mes == 'feb': mes = 2\n",
    "                elif nombre_mes == 'mar': mes = 3\n",
    "                elif nombre_mes == 'apr': mes = 4\n",
    "                elif nombre_mes == 'may': mes = 5\n",
    "                elif nombre_mes == 'jun': mes = 6\n",
    "                elif nombre_mes == 'jul': mes = 7\n",
    "                elif nombre_mes == 'aug': mes = 8\n",
    "                elif nombre_mes == 'sep': mes = 9\n",
    "                elif nombre_mes == 'oct': mes = 10\n",
    "                elif nombre_mes == 'nov': mes = 11\n",
    "                elif nombre_mes == 'dec': mes = 12\n",
    "            else: # Si es por número de mes\n",
    "                mes = int(datos_fecha[1])\n",
    "            \n",
    "            tabla_fechas = tabla_fechas.append({'Dia' : dia , 'Mes' : mes, 'Anio': anio} , ignore_index=True)\n",
    "        \n",
    "        archivo.close()\n",
    "    \n",
    "    #Determinar promedios\n",
    "    promedio_dias = tabla_fechas['Dia'].mean()\n",
    "    promedio_meses = tabla_fechas['Mes'].mean()\n",
    "    promedio_anios = tabla_fechas['Anio'].mean()\n",
    "    \n",
    "    return tabla_fechas, promedio_dias, promedio_meses, promedio_anios"
   ]
  },
  {
   "cell_type": "code",
   "execution_count": 26,
   "metadata": {},
   "outputs": [],
   "source": [
    "tabla, dia, mes, anio = fecha_promedio()"
   ]
  },
  {
   "cell_type": "code",
   "execution_count": 27,
   "metadata": {},
   "outputs": [
    {
     "data": {
      "text/html": [
       "<div>\n",
       "<style scoped>\n",
       "    .dataframe tbody tr th:only-of-type {\n",
       "        vertical-align: middle;\n",
       "    }\n",
       "\n",
       "    .dataframe tbody tr th {\n",
       "        vertical-align: top;\n",
       "    }\n",
       "\n",
       "    .dataframe thead th {\n",
       "        text-align: right;\n",
       "    }\n",
       "</style>\n",
       "<table border=\"1\" class=\"dataframe\">\n",
       "  <thead>\n",
       "    <tr style=\"text-align: right;\">\n",
       "      <th></th>\n",
       "      <th>Dia</th>\n",
       "      <th>Mes</th>\n",
       "      <th>Anio</th>\n",
       "    </tr>\n",
       "  </thead>\n",
       "  <tbody>\n",
       "    <tr>\n",
       "      <th>0</th>\n",
       "      <td>23</td>\n",
       "      <td>2</td>\n",
       "      <td>2017</td>\n",
       "    </tr>\n",
       "    <tr>\n",
       "      <th>1</th>\n",
       "      <td>21</td>\n",
       "      <td>11</td>\n",
       "      <td>2016</td>\n",
       "    </tr>\n",
       "    <tr>\n",
       "      <th>2</th>\n",
       "      <td>12</td>\n",
       "      <td>2</td>\n",
       "      <td>2017</td>\n",
       "    </tr>\n",
       "    <tr>\n",
       "      <th>3</th>\n",
       "      <td>6</td>\n",
       "      <td>6</td>\n",
       "      <td>2016</td>\n",
       "    </tr>\n",
       "    <tr>\n",
       "      <th>4</th>\n",
       "      <td>4</td>\n",
       "      <td>5</td>\n",
       "      <td>2018</td>\n",
       "    </tr>\n",
       "    <tr>\n",
       "      <th>...</th>\n",
       "      <td>...</td>\n",
       "      <td>...</td>\n",
       "      <td>...</td>\n",
       "    </tr>\n",
       "    <tr>\n",
       "      <th>20995</th>\n",
       "      <td>14</td>\n",
       "      <td>9</td>\n",
       "      <td>2017</td>\n",
       "    </tr>\n",
       "    <tr>\n",
       "      <th>20996</th>\n",
       "      <td>9</td>\n",
       "      <td>1</td>\n",
       "      <td>2019</td>\n",
       "    </tr>\n",
       "    <tr>\n",
       "      <th>20997</th>\n",
       "      <td>2</td>\n",
       "      <td>8</td>\n",
       "      <td>2018</td>\n",
       "    </tr>\n",
       "    <tr>\n",
       "      <th>20998</th>\n",
       "      <td>17</td>\n",
       "      <td>5</td>\n",
       "      <td>2018</td>\n",
       "    </tr>\n",
       "    <tr>\n",
       "      <th>20999</th>\n",
       "      <td>10</td>\n",
       "      <td>2</td>\n",
       "      <td>2017</td>\n",
       "    </tr>\n",
       "  </tbody>\n",
       "</table>\n",
       "<p>21000 rows × 3 columns</p>\n",
       "</div>"
      ],
      "text/plain": [
       "      Dia Mes  Anio\n",
       "0      23   2  2017\n",
       "1      21  11  2016\n",
       "2      12   2  2017\n",
       "3       6   6  2016\n",
       "4       4   5  2018\n",
       "...    ..  ..   ...\n",
       "20995  14   9  2017\n",
       "20996   9   1  2019\n",
       "20997   2   8  2018\n",
       "20998  17   5  2018\n",
       "20999  10   2  2017\n",
       "\n",
       "[21000 rows x 3 columns]"
      ]
     },
     "execution_count": 27,
     "metadata": {},
     "output_type": "execute_result"
    }
   ],
   "source": [
    "tabla"
   ]
  },
  {
   "cell_type": "code",
   "execution_count": 30,
   "metadata": {},
   "outputs": [
    {
     "name": "stdout",
     "output_type": "stream",
     "text": [
      "Día promedio: 15.624761904761904\n",
      "Mes promedio: 6.4664761904761905\n",
      "Año promedio: 2016.6869047619048\n"
     ]
    }
   ],
   "source": [
    "print('Día promedio: ' + str(dia))\n",
    "print('Mes promedio: ' + str(mes))\n",
    "print('Año promedio: ' + str(anio))"
   ]
  },
  {
   "cell_type": "markdown",
   "metadata": {},
   "source": [
    "## Problema 3\n",
    "Use el Dataset el cual contiene aproximadamente 800,000 tweets de diversos temas. Usando expresiones regulares, determine los 3 usuarios más populares dentro del dataset. Luego arme un corpus el cual contenga los siguientes elementos por cada usuario seleccio-nado:\n",
    "* Content: Tweet\n",
    "* Metadata: ID, Timestamp, Length (este valor hay que calcularlo)\n",
    "\n",
    "Posterior a tener sus 3 corpus creados, responda: ¿Razón por la que citan a ese usuario? para esto es necesario que extraiga el contexto de cada tweet y verifique cuales son las palabras que más rodean al nombre de usuario. Para extraer un contexto válido y debido a la naturaleza del tipo de datos que están disponibles en nuestro dataset le recomendamos seguir los siguientes pasos:\n",
    "1. Remover stopwords\n",
    "2. Realizar stemming y lemmatización\n",
    "3. Mostrar un wordcloud con el top 10 para cada usuario\n",
    "\n",
    "\n",
    "**Link al notebook de Colab:** https://colab.research.google.com/drive/1pypCSpRY17mzMW489xNG1WS1sbYpaEjW?usp=sharing "
   ]
  },
  {
   "cell_type": "code",
   "execution_count": null,
   "metadata": {},
   "outputs": [],
   "source": []
  },
  {
   "cell_type": "code",
   "execution_count": null,
   "metadata": {},
   "outputs": [],
   "source": []
  }
 ],
 "metadata": {
  "kernelspec": {
   "display_name": "Python 3",
   "language": "python",
   "name": "python3"
  },
  "language_info": {
   "codemirror_mode": {
    "name": "ipython",
    "version": 3
   },
   "file_extension": ".py",
   "mimetype": "text/x-python",
   "name": "python",
   "nbconvert_exporter": "python",
   "pygments_lexer": "ipython3",
   "version": "3.7.6"
  }
 },
 "nbformat": 4,
 "nbformat_minor": 4
}
